{
 "cells": [
  {
   "cell_type": "code",
   "execution_count": 5,
   "metadata": {},
   "outputs": [
    {
     "data": {
      "text/plain": [
       "True"
      ]
     },
     "execution_count": 5,
     "metadata": {},
     "output_type": "execute_result"
    }
   ],
   "source": [
    "import os\n",
    "from dotenv import load_dotenv, find_dotenv\n",
    "from langchain_core.messages import SystemMessage, HumanMessage\n",
    "from langchain_openai import ChatOpenAI\n",
    "\n",
    "load_dotenv(find_dotenv(), override=True)"
   ]
  },
  {
   "cell_type": "code",
   "execution_count": 6,
   "metadata": {},
   "outputs": [
    {
     "name": "stdout",
     "output_type": "stream",
     "text": [
      "[SystemMessage(content='\\nWhen generating the output, follow the format of the sample post. \\n', additional_kwargs={}, response_metadata={}), HumanMessage(content=\"\\nYou must design a social media post. You will be provided a set of questionnaire answers from a user and you must use these when designing the post. \\nYou will also be provided a sample post, whose format you must follow. The post you make should be similar to the sample post, in terms of tone, flow of informationm, the inclusion of bullet points, etc.\\n\\nQuestionnaire answers (delimited by triple back ticks): ```\\nQ1. Can you describe the specific case study or transformation story you want to share?\\nAns. successful collaboration between Sodexo and CoachHub to accelerate leadership development across the APMEA region.\\nQ2. What challenge or problem was addressed in this case?\\nAns. The challenge addressed in this case was the need for scalable leadership development programs that could effectively engage and develop employees across diverse geographic regions, particularly in the Asia Pacific, Middle East, and Africa (APMEA).\\nQ3. What were the key results or outcomes achieved in this story?\\nAns. The key results achieved in this story include the implementation of scalable coaching programs powered by AI and analytics, which led to improved knowledge retention, enhanced leadership skills, and increased employee engagement across the APMEA region.\\nQ4. Are there any data, quotes, or testimonials that illustrate the impact?\\nAns. 75% of classroom-style training is forgotten if it's not implemented within 6 days after.\\nQ5. Is there a specific call-to-action?\\nAns. Join thousands of coachees like Sodexo's Head of FMCG Accounts, Jean Baptiste CALEMARD, on a journey of growth and transformation to explore the greater you.\\nQ6. Are there any specific hashtags you'd like to include?\\nAns.\\n#ExploreTheGreaterYou\\nhttps://bit.ly/3LMxIHg\\nQ7. Describe your desired tone and style.\\nAns. professional and make sure to write the achievements in the form of points.\\n```\\nSample post (delimited by triple back ticks): ```\\nDid you know? 75% of classroom-style training is forgotten if it's not implemented within 6 days after. \\nDiscover how Sodexo, a world leader in facilities management and food services, joined forces with CoachHub to accelerate their leadership development across APMEA:\\n🚀 Scalable coaching programs powered by AI and analytics with local support\\n🌎 Access to a diverse pool of 3,500 top certified coaches from around the world\\n🌟 Unlimited, structured coaching sessions and flexibility 24/7 for a hybrid, mobile workforce\\n🧠 Boost knowledge retention and engagement with global benchmarking\\n✅ Quick implementation with low administrative burden\\nJoin thousands of coachees like Sodexo's Head of FMCG Accounts, Jean Baptiste CALEMARD, on a journey of growth and transformation to #ExploreTheGreaterYou:\\nhttps://bit.ly/3LMxIHg\\n```\\n\", additional_kwargs={}, response_metadata={})] \n",
      "\n",
      "LLM Output:  \n",
      "\n",
      "```\n",
      "Did you know? 75% of classroom-style training is forgotten if it's not implemented within 6 days after.\n",
      "\n",
      "Discover how Sodexo, a global leader in facilities management and food services, successfully collaborated with CoachHub to accelerate leadership development across the APMEA region:\n",
      "🚀 Implementation of scalable coaching programs powered by AI and analytics\n",
      "📈 Improved knowledge retention and enhanced leadership skills\n",
      "🌍 Increased employee engagement across diverse geographic regions\n",
      "🌟 Effective engagement and development of employees in the Asia Pacific, Middle East, and Africa\n",
      "\n",
      "Join thousands of coachees like Sodexo's Head of FMCG Accounts, Jean Baptiste CALEMARD, on a journey of growth and transformation to #ExploreTheGreaterYou:\n",
      "https://bit.ly/3LMxIHg\n",
      "```\n"
     ]
    }
   ],
   "source": [
    "system_message = '''\n",
    "When generating the output, follow the format of the sample post. \n",
    "'''\n",
    "\n",
    "questionnaire_answers = '''\n",
    "Q1. Can you describe the specific case study or transformation story you want to share?\n",
    "Ans. successful collaboration between Sodexo and CoachHub to accelerate leadership development across the APMEA region.\n",
    "Q2. What challenge or problem was addressed in this case?\n",
    "Ans. The challenge addressed in this case was the need for scalable leadership development programs that could effectively engage and develop employees across diverse geographic regions, particularly in the Asia Pacific, Middle East, and Africa (APMEA).\n",
    "Q3. What were the key results or outcomes achieved in this story?\n",
    "Ans. The key results achieved in this story include the implementation of scalable coaching programs powered by AI and analytics, which led to improved knowledge retention, enhanced leadership skills, and increased employee engagement across the APMEA region.\n",
    "Q4. Are there any data, quotes, or testimonials that illustrate the impact?\n",
    "Ans. 75% of classroom-style training is forgotten if it's not implemented within 6 days after.\n",
    "Q5. Is there a specific call-to-action?\n",
    "Ans. Join thousands of coachees like Sodexo's Head of FMCG Accounts, Jean Baptiste CALEMARD, on a journey of growth and transformation to explore the greater you.\n",
    "Q6. Are there any specific hashtags you'd like to include?\n",
    "Ans.\n",
    "#ExploreTheGreaterYou\n",
    "https://bit.ly/3LMxIHg\n",
    "Q7. Describe your desired tone and style.\n",
    "Ans. professional and make sure to write the achievements in the form of points.\n",
    "'''\n",
    "\n",
    "sample_post = '''\n",
    "Did you know? 75% of classroom-style training is forgotten if it's not implemented within 6 \\\n",
    "days after. \n",
    "Discover how Sodexo, a world leader in facilities management and food services, joined \\\n",
    "forces with CoachHub to accelerate their leadership development across APMEA:\n",
    "🚀 Scalable coaching programs powered by AI and analytics with local support\n",
    "🌎 Access to a diverse pool of 3,500 top certified coaches from around the world\n",
    "🌟 Unlimited, structured coaching sessions and flexibility 24/7 for a hybrid, mobile workforce\n",
    "🧠 Boost knowledge retention and engagement with global benchmarking\n",
    "✅ Quick implementation with low administrative burden\n",
    "Join thousands of coachees like Sodexo's Head of FMCG Accounts, Jean Baptiste \\\n",
    "CALEMARD, on a journey of growth and transformation to #ExploreTheGreaterYou:\n",
    "https://bit.ly/3LMxIHg\n",
    "'''\n",
    "\n",
    "user_message = f'''\n",
    "You must design a social media post. You will be provided a set of questionnaire answers from a user and you must use these when designing the post. \n",
    "You will also be provided a sample post, whose format you must follow. The post you make should be similar to the sample post, in terms of tone, flow of informationm, the inclusion of bullet points, etc.\n",
    "\n",
    "Questionnaire answers (delimited by triple back ticks): ```{questionnaire_answers}```\n",
    "Sample post (delimited by triple back ticks): ```{sample_post}```\n",
    "'''\n",
    "\n",
    "# making the prompt for the LLM\n",
    "messages = [\n",
    "    SystemMessage(content=system_message),\n",
    "    HumanMessage(content=user_message)\n",
    "]\n",
    "\n",
    "print(messages, \"\\n\")\n",
    "\n",
    "print(\"LLM Output: \", \"\\n\")\n",
    "\n",
    "# invoking the LLM\n",
    "llm = ChatOpenAI(model='gpt-4o', temperature=0.5)  \n",
    "output = llm.invoke(messages)\n",
    "print(output.content)"
   ]
  }
 ],
 "metadata": {
  "kernelspec": {
   "display_name": "Python 3",
   "language": "python",
   "name": "python3"
  },
  "language_info": {
   "codemirror_mode": {
    "name": "ipython",
    "version": 3
   },
   "file_extension": ".py",
   "mimetype": "text/x-python",
   "name": "python",
   "nbconvert_exporter": "python",
   "pygments_lexer": "ipython3",
   "version": "3.11.5"
  }
 },
 "nbformat": 4,
 "nbformat_minor": 2
}
